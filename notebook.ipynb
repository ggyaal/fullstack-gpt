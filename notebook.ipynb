{
 "cells": [
  {
   "cell_type": "code",
   "execution_count": 1,
   "id": "692c8937",
   "metadata": {},
   "outputs": [],
   "source": [
    "from langchain.chat_models import ChatOpenAI\n",
    "from langchain.memory import ConversationSummaryBufferMemory\n",
    "from langchain.prompts import ChatPromptTemplate, MessagesPlaceholder\n",
    "from langchain.prompts.few_shot import FewShotChatMessagePromptTemplate\n",
    "from langchain.schema.runnable import RunnablePassthrough\n",
    "\n",
    "llm = ChatOpenAI(temperature=0.1)\n",
    "\n",
    "memory = ConversationSummaryBufferMemory(\n",
    "  llm=llm,\n",
    "  max_token_limit=150,\n",
    "  return_messages=True\n",
    ")"
   ]
  },
  {
   "cell_type": "code",
   "execution_count": 2,
   "id": "d002eb8b",
   "metadata": {},
   "outputs": [],
   "source": [
    "examples = [\n",
    "  {\n",
    "    \"movie\": \"탑건\",\n",
    "    \"answer\": \"🛩️👨‍✈️🔥\",\n",
    "  },\n",
    "  {\n",
    "    \"movie\": \"대부\",\n",
    "    \"answer\": \"👨‍👨‍👦🔫🍝\"\n",
    "  }\n",
    "]\n",
    "\n",
    "example_prompt = ChatPromptTemplate.from_messages(\n",
    "  [\n",
    "    (\"human\", \"{movie}\"),\n",
    "    (\"ai\", \"{answer}\")\n",
    "  ]\n",
    ")\n",
    "\n",
    "few_prompt = FewShotChatMessagePromptTemplate(\n",
    "  examples=examples,\n",
    "  example_prompt=example_prompt\n",
    ")\n",
    "\n",
    "prompt = ChatPromptTemplate.from_messages(\n",
    "  [\n",
    "    (\"system\", \"You have the ability to describe a movie in three images.\"),\n",
    "    MessagesPlaceholder(variable_name=\"history\"),\n",
    "    few_prompt,\n",
    "    (\"human\", \"{movie}\")\n",
    "  ]\n",
    ")"
   ]
  },
  {
   "cell_type": "code",
   "execution_count": 3,
   "id": "680c01fa",
   "metadata": {},
   "outputs": [],
   "source": [
    "def load_memory(movie):\n",
    "  return memory.load_memory_variables({})[\"history\"]\n",
    "\n",
    "chain = RunnablePassthrough.assign(history=load_memory) | prompt | llm\n",
    "\n",
    "def invoke_chain(movie):\n",
    "  result = chain.invoke({\"movie\": movie})\n",
    "  memory.save_context(\n",
    "    {\"input\": movie},\n",
    "    {\"output\": result.content},\n",
    "  )\n",
    "  print(result)"
   ]
  },
  {
   "cell_type": "code",
   "execution_count": 4,
   "id": "877eba3b",
   "metadata": {},
   "outputs": [
    {
     "name": "stdout",
     "output_type": "stream",
     "text": [
      "content='🌿🌊🔵'\n"
     ]
    }
   ],
   "source": [
    "invoke_chain(\"아바타\")"
   ]
  },
  {
   "cell_type": "code",
   "execution_count": 5,
   "id": "4d19188e",
   "metadata": {},
   "outputs": [
    {
     "name": "stdout",
     "output_type": "stream",
     "text": [
      "content='🛩️🕶️🔥'\n"
     ]
    }
   ],
   "source": [
    "invoke_chain(\"탑건\")"
   ]
  },
  {
   "cell_type": "code",
   "execution_count": 6,
   "id": "7de4d2d6",
   "metadata": {},
   "outputs": [
    {
     "name": "stdout",
     "output_type": "stream",
     "text": [
      "content=\"먼저 질문한 영화는 '탑건'이었습니다.\"\n"
     ]
    }
   ],
   "source": [
    "invoke_chain(\"먼저 질문한 영화가 뭐였지?\")"
   ]
  }
 ],
 "metadata": {
  "kernelspec": {
   "display_name": "env",
   "language": "python",
   "name": "python3"
  },
  "language_info": {
   "codemirror_mode": {
    "name": "ipython",
    "version": 3
   },
   "file_extension": ".py",
   "mimetype": "text/x-python",
   "name": "python",
   "nbconvert_exporter": "python",
   "pygments_lexer": "ipython3",
   "version": "3.11.11"
  }
 },
 "nbformat": 4,
 "nbformat_minor": 5
}
