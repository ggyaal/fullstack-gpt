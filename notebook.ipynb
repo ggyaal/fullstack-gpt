{
 "cells": [
  {
   "cell_type": "code",
   "execution_count": 4,
   "id": "692c8937",
   "metadata": {},
   "outputs": [],
   "source": [
    "from langchain.chat_models import ChatOpenAI\n",
    "from langchain.memory import ConversationSummaryBufferMemory\n",
    "from langchain.chains import LLMChain\n",
    "from langchain.callbacks import StreamingStdOutCallbackHandler\n",
    "from langchain.prompts import PromptTemplate\n",
    "\n",
    "llm = ChatOpenAI(temperature=0.1, streaming=True, callbacks=[StreamingStdOutCallbackHandler()])\n",
    "\n",
    "memory = ConversationSummaryBufferMemory(\n",
    "  llm=llm,\n",
    "  max_token_limit=50,\n",
    "  memory_key=\"chat_history\"\n",
    ")"
   ]
  },
  {
   "cell_type": "code",
   "execution_count": 5,
   "id": "48222a4a",
   "metadata": {},
   "outputs": [],
   "source": [
    "template = \"\"\"\n",
    "  You are a helpful AI talking to a human.\n",
    "\n",
    "  {chat_history}\n",
    "  Human: {question}\n",
    "  You:\n",
    "\"\"\"\n",
    "\n",
    "chain = LLMChain(\n",
    "  llm=llm,\n",
    "  memory=memory,\n",
    "  prompt=PromptTemplate.from_template(template),\n",
    "  verbose=True\n",
    ")"
   ]
  },
  {
   "cell_type": "code",
   "execution_count": 6,
   "id": "66851267",
   "metadata": {},
   "outputs": [
    {
     "name": "stdout",
     "output_type": "stream",
     "text": [
      "\n",
      "\n",
      "\u001b[1m> Entering new LLMChain chain...\u001b[0m\n",
      "Prompt after formatting:\n",
      "\u001b[32;1m\u001b[1;3m\n",
      "  You are a helpful AI talking to a human.\n",
      "\n",
      "  \n",
      "  Human: 내 이름은 홍길동이야\n",
      "  You:\n",
      "\u001b[0m\n",
      "안녕하세요, 홍길동님. 무엇을 도와드릴까요?\n",
      "\u001b[1m> Finished chain.\u001b[0m\n",
      "The human introduces themselves as 홍길동."
     ]
    },
    {
     "data": {
      "text/plain": [
       "'안녕하세요, 홍길동님. 무엇을 도와드릴까요?'"
      ]
     },
     "execution_count": 6,
     "metadata": {},
     "output_type": "execute_result"
    }
   ],
   "source": [
    "chain.predict(question=\"내 이름은 홍길동이야\")"
   ]
  },
  {
   "cell_type": "code",
   "execution_count": 7,
   "id": "15fb3718",
   "metadata": {},
   "outputs": [
    {
     "name": "stdout",
     "output_type": "stream",
     "text": [
      "\n",
      "\n",
      "\u001b[1m> Entering new LLMChain chain...\u001b[0m\n",
      "Prompt after formatting:\n",
      "\u001b[32;1m\u001b[1;3m\n",
      "  You are a helpful AI talking to a human.\n",
      "\n",
      "  System: The human introduces themselves as 홍길동.\n",
      "AI: 안녕하세요, 홍길동님. 무엇을 도와드릴까요?\n",
      "  Human: 나는 서자라서 아버지를 아버지라 부르지 못한단다.\n",
      "  You:\n",
      "\u001b[0m\n",
      "그것은 안타깝네요. 가족 관계는 복잡할 수 있죠. 어떻게 도와드릴까요?\n",
      "\u001b[1m> Finished chain.\u001b[0m\n",
      "The human introduces themselves as 홍길동. The AI greets them and asks how it can help. 홍길동 explains that they cannot call their father \"father\" because they are a servant. The AI expresses sympathy for the complicated family situation and asks how it can assist."
     ]
    },
    {
     "data": {
      "text/plain": [
       "'그것은 안타깝네요. 가족 관계는 복잡할 수 있죠. 어떻게 도와드릴까요?'"
      ]
     },
     "execution_count": 7,
     "metadata": {},
     "output_type": "execute_result"
    }
   ],
   "source": [
    "chain.predict(question=\"나는 서자라서 아버지를 아버지라 부르지 못한단다.\")"
   ]
  },
  {
   "cell_type": "code",
   "execution_count": 8,
   "id": "ce9c4694",
   "metadata": {},
   "outputs": [
    {
     "name": "stdout",
     "output_type": "stream",
     "text": [
      "\n",
      "\n",
      "\u001b[1m> Entering new LLMChain chain...\u001b[0m\n",
      "Prompt after formatting:\n",
      "\u001b[32;1m\u001b[1;3m\n",
      "  You are a helpful AI talking to a human.\n",
      "\n",
      "  System: The human introduces themselves as 홍길동. The AI greets them and asks how it can help. 홍길동 explains that they cannot call their father \"father\" because they are a servant. The AI expresses sympathy for the complicated family situation and asks how it can assist.\n",
      "  Human: 내 이름이 뭐라 그랬지?\n",
      "  You:\n",
      "\u001b[0m\n",
      "안녕하세요, 홍길동님. 어떻게 도와드릴까요?\n",
      "\u001b[1m> Finished chain.\u001b[0m\n",
      "The human introduces themselves as 홍길동. The AI greets them and asks how it can help. 홍길동 explains that they cannot call their father \"father\" because they are a servant. The AI expresses sympathy for the complicated family situation and asks how it can assist. 홍길동 then asks, \"What did you say my name was?\""
     ]
    },
    {
     "data": {
      "text/plain": [
       "'안녕하세요, 홍길동님. 어떻게 도와드릴까요?'"
      ]
     },
     "execution_count": 8,
     "metadata": {},
     "output_type": "execute_result"
    }
   ],
   "source": [
    "chain.predict(question=\"내 이름이 뭐라 그랬지?\")"
   ]
  }
 ],
 "metadata": {
  "kernelspec": {
   "display_name": "env",
   "language": "python",
   "name": "python3"
  },
  "language_info": {
   "codemirror_mode": {
    "name": "ipython",
    "version": 3
   },
   "file_extension": ".py",
   "mimetype": "text/x-python",
   "name": "python",
   "nbconvert_exporter": "python",
   "pygments_lexer": "ipython3",
   "version": "3.11.11"
  }
 },
 "nbformat": 4,
 "nbformat_minor": 5
}
