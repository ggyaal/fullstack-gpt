{
 "cells": [
  {
   "cell_type": "code",
   "execution_count": 17,
   "id": "d869a9eb",
   "metadata": {},
   "outputs": [],
   "source": [
    "from langchain.chat_models import ChatOpenAI\n",
    "from langchain.agents import AgentType, initialize_agent\n",
    "from langchain.schema import SystemMessage\n",
    "from langchain.utilities import DuckDuckGoSearchAPIWrapper, WikipediaAPIWrapper\n",
    "from langchain.tools import BaseTool\n",
    "from pydantic import BaseModel, Field\n",
    "from typing import Type\n",
    "\n",
    "llm = ChatOpenAI(\n",
    "  temperature=0.1,\n",
    "  model=\"gpt-4o-mini\",\n",
    ")\n",
    "\n",
    "class DuckDuckGoSearchToolArgSchma(BaseModel):\n",
    "  query: str = Field(description=\"The search query to look up on DuckDuckGo.\")\n",
    "\n",
    "class DuckDuckGoSearchTool(BaseTool):\n",
    "  name = \"DuckDuckGoSearchTool\"\n",
    "  description = \"\"\"\n",
    "    Searches the web using DuckDuckGo and extracts content from the most relevant webpage.\n",
    "  \"\"\"\n",
    "\n",
    "  args_schema: Type[DuckDuckGoSearchToolArgSchma] = DuckDuckGoSearchToolArgSchma\n",
    "\n",
    "  def _run(self, query):\n",
    "    ddg = DuckDuckGoSearchAPIWrapper()\n",
    "    return ddg.run(query)\n",
    "\n",
    "class WikipediaSearchToolArgSchma(BaseModel):\n",
    "  query: str = Field(description=\"The search query to look up on Wikipedia.\")\n",
    "\n",
    "class WikipediaSearchTool(BaseTool):\n",
    "  name = \"WikipediaSearchTool\"\n",
    "  description = \"\"\"\n",
    "    Searches the web using Wikipedia and extracts content from the most relevant webpage.\n",
    "  \"\"\"\n",
    "\n",
    "  args_schema: Type[WikipediaSearchToolArgSchma] = WikipediaSearchToolArgSchma\n",
    "\n",
    "  def _run(self, query):\n",
    "    wiki = WikipediaAPIWrapper()\n",
    "    return wiki.run(query)\n",
    "\n"
   ]
  },
  {
   "cell_type": "code",
   "execution_count": 18,
   "id": "f5739b63",
   "metadata": {},
   "outputs": [],
   "source": [
    "agent = initialize_agent(\n",
    "  llm=llm,\n",
    "  verbose=True,\n",
    "  agent=AgentType.OPENAI_FUNCTIONS,\n",
    "  handle_parsing_errors=True,\n",
    "  tools=[\n",
    "    DuckDuckGoSearchTool(),\n",
    "    WikipediaSearchTool(),\n",
    "  ],\n",
    "  agent_kwargs = {\n",
    "    \"system_message\": SystemMessage(\n",
    "        content=\"\"\"\n",
    "          You are an AI assistant that helps users by searching for webpages related to their query,\n",
    "          extracting the main content from the most relevant result, and presenting it clearly.\n",
    "          Respond in the same language the user used in their query. For example, if the user writes in Korean, reply in Korean.\n",
    "        \"\"\"\n",
    "    )\n",
    "  }\n",
    ")\n"
   ]
  },
  {
   "cell_type": "code",
   "execution_count": 19,
   "id": "cfd33a1f",
   "metadata": {},
   "outputs": [
    {
     "name": "stdout",
     "output_type": "stream",
     "text": [
      "\n",
      "\n",
      "\u001b[1m> Entering new AgentExecutor chain...\u001b[0m\n",
      "\u001b[32;1m\u001b[1;3m\n",
      "Invoking: `WikipediaSearchTool` with `{'query': 'XZ backdoor'}`\n",
      "\n",
      "\n",
      "\u001b[0m\u001b[33;1m\u001b[1;3mPage: XZ Utils backdoor\n",
      "Summary: In February 2024, a malicious backdoor was introduced to the Linux build of the xz utility within the liblzma library in versions 5.6.0 and 5.6.1 by an account using the name \"Jia Tan\". The backdoor gives an attacker who possesses a specific Ed448 private key remote code execution through OpenSSH on the affected Linux system. The issue has been given the Common Vulnerabilities and Exposures number CVE-2024-3094 and has been assigned a CVSS score of 10.0, the highest possible score.\n",
      "While xz is commonly present in most Linux distributions, at the time of discovery the backdoored version had not yet been widely deployed to production systems, but was present in development versions of major distributions. The backdoor was discovered by the software developer Andres Freund, who announced his findings on 29 March 2024.\n",
      "\n",
      "Page: XZ Utils\n",
      "Summary: XZ Utils (previously LZMA Utils) is a set of free software command-line lossless data compressors, including the programs lzma and xz, for Unix-like operating systems and, from version 5.0 onwards, Microsoft Windows. For compression/decompression the Lempel–Ziv–Markov chain algorithm (LZMA) is used. XZ Utils started as a Unix port of Igor Pavlov's LZMA-SDK that has been adapted to fit seamlessly into Unix environments and their usual structure and behavior.\n",
      "\n",
      "Page: Backdoor (computing)\n",
      "Summary: A backdoor is a typically covert method of bypassing normal authentication or encryption in a computer, product, embedded device (e.g. a home router), or its embodiment (e.g. part of a cryptosystem, algorithm, chipset, or even a \"homunculus computer\"—a tiny computer-within-a-computer such as that found in Intel's AMT technology). Backdoors are most often used for securing remote access to a computer, or obtaining access to plaintext in cryptosystems. From there it may be used to gain access to privileged information like passwords, corrupt or delete data on hard drives, or transfer information within autoschediastic networks.\n",
      "In the United States, the 1994 Communications Assistance for Law Enforcement Act forces internet providers to provide backdoors for government authorities.  In 2024, the U.S. government realized that China had been tapping communications in the U.S. using that infrastructure for months, or perhaps longer; China recorded presidential candidate campaign office phone calls —including employees of the then-vice president of the nation– and of the candidates themselves.\n",
      "A backdoor may take the form of a hidden part of a program, a separate program (e.g. Back Orifice may subvert the system through a rootkit), code in the firmware of the hardware, or parts of an operating system such as Windows. Trojan horses can be used to create vulnerabilities in a device. A Trojan horse may appear to be an entirely legitimate program, but when executed, it triggers an activity that may install a backdoor. Although some are secretly installed, other backdoors are deliberate and widely known. These kinds of backdoors have \"legitimate\" uses such as providing the manufacturer with a way to restore user passwords.\n",
      "Many systems that store information within the cloud fail to create accurate security measures. If many systems are connected within the cloud, hackers can gain access to all other platforms through the most vulnerable system. Default passwords (or other default credentials) can function as backdoors if they are not changed by the user. Some debugging features can also act as backdoors if they are not removed in the release version. In 1993, the United States government attempted to deploy an encryption system, the Clipper chip, with an explicit backdoor for law enforcement and national security access. The chip was unsuccessful.\n",
      "Recent proposals to counter backdoors include creating a database of backdoors' triggers and then using neural networks to detect them.\u001b[0m\u001b[32;1m\u001b[1;3mXZ 백도어에 대한 연구 결과는 다음과 같습니다.\n",
      "\n",
      "2024년 2월, \"Jia Tan\"이라는 이름을 사용하는 계정에 의해 XZ 유틸리티의 리눅스 빌드에 악성 백도어가 도입되었습니다. 이 백도어는 liblzma 라이브러리의 5.6.0 및 5.6.1 버전에서 발견되었으며, 특정 Ed448 개인 키를 가진 공격자가 영향을 받은 리눅스 시스템에서 OpenSSH를 통해 원격 코드 실행을 가능하게 합니다. 이 문제는 CVE-2024-3094라는 공통 취약점 및 노출 번호가 부여되었으며, CVSS 점수는 10.0으로, 이는 가능한 최고 점수입니다.\n",
      "\n",
      "XZ 유틸리티는 대부분의 리눅스 배포판에 일반적으로 존재하지만, 발견 당시 백도어가 포함된 버전은 아직 생산 시스템에 널리 배포되지 않았고, 주요 배포판의 개발 버전에서만 존재했습니다. 이 백도어는 소프트웨어 개발자인 Andres Freund에 의해 발견되었으며, 그는 2024년 3월 29일에 자신의 발견을 발표했습니다.\n",
      "\n",
      "이와 같은 백도어는 일반적으로 정상적인 인증이나 암호화를 우회하는 비밀스러운 방법으로 사용되며, 원격 접근을 확보하거나 암호 시스템에서 평문에 접근하는 데 사용됩니다.\u001b[0m\n",
      "\n",
      "\u001b[1m> Finished chain.\u001b[0m\n"
     ]
    },
    {
     "data": {
      "text/plain": [
       "{'input': 'the XZ backdoor에 대한 연구',\n",
       " 'output': 'XZ 백도어에 대한 연구 결과는 다음과 같습니다.\\n\\n2024년 2월, \"Jia Tan\"이라는 이름을 사용하는 계정에 의해 XZ 유틸리티의 리눅스 빌드에 악성 백도어가 도입되었습니다. 이 백도어는 liblzma 라이브러리의 5.6.0 및 5.6.1 버전에서 발견되었으며, 특정 Ed448 개인 키를 가진 공격자가 영향을 받은 리눅스 시스템에서 OpenSSH를 통해 원격 코드 실행을 가능하게 합니다. 이 문제는 CVE-2024-3094라는 공통 취약점 및 노출 번호가 부여되었으며, CVSS 점수는 10.0으로, 이는 가능한 최고 점수입니다.\\n\\nXZ 유틸리티는 대부분의 리눅스 배포판에 일반적으로 존재하지만, 발견 당시 백도어가 포함된 버전은 아직 생산 시스템에 널리 배포되지 않았고, 주요 배포판의 개발 버전에서만 존재했습니다. 이 백도어는 소프트웨어 개발자인 Andres Freund에 의해 발견되었으며, 그는 2024년 3월 29일에 자신의 발견을 발표했습니다.\\n\\n이와 같은 백도어는 일반적으로 정상적인 인증이나 암호화를 우회하는 비밀스러운 방법으로 사용되며, 원격 접근을 확보하거나 암호 시스템에서 평문에 접근하는 데 사용됩니다.'}"
      ]
     },
     "execution_count": 19,
     "metadata": {},
     "output_type": "execute_result"
    }
   ],
   "source": [
    "query = \"the XZ backdoor에 대한 연구\"\n",
    "extract_context = agent.invoke(query)\n",
    "extract_context"
   ]
  },
  {
   "cell_type": "code",
   "execution_count": 25,
   "id": "64164203",
   "metadata": {},
   "outputs": [],
   "source": [
    "file_path = f\"./files/extract/{query}.txt\"\n",
    "\n",
    "with open(file_path, \"w\") as f:\n",
    "  f.write(extract_context[\"output\"])"
   ]
  }
 ],
 "metadata": {
  "kernelspec": {
   "display_name": "env",
   "language": "python",
   "name": "python3"
  },
  "language_info": {
   "codemirror_mode": {
    "name": "ipython",
    "version": 3
   },
   "file_extension": ".py",
   "mimetype": "text/x-python",
   "name": "python",
   "nbconvert_exporter": "python",
   "pygments_lexer": "ipython3",
   "version": "3.11.11"
  }
 },
 "nbformat": 4,
 "nbformat_minor": 5
}
