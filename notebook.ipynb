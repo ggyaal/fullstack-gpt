{
 "cells": [
  {
   "cell_type": "code",
   "execution_count": 1,
   "id": "692c8937",
   "metadata": {},
   "outputs": [],
   "source": [
    "from langchain.chat_models import ChatOpenAI\n",
    "from langchain.prompts import PromptTemplate\n",
    "from langchain.prompts.few_shot import FewShotPromptTemplate\n",
    "from langchain.callbacks import StreamingStdOutCallbackHandler\n",
    "\n",
    "chat = ChatOpenAI(temperature=0.1, streaming=True, callbacks=[StreamingStdOutCallbackHandler()])"
   ]
  },
  {
   "cell_type": "code",
   "execution_count": 2,
   "id": "a0109798",
   "metadata": {},
   "outputs": [
    {
     "name": "stdout",
     "output_type": "stream",
     "text": [
      "\n",
      "  영화: 아바타\n",
      "  답변: \n",
      "        영화 제목: 아바타 (Avatar)\n",
      "        장르: \"SF (Science Fiction), 액션, 모험\",\n",
      "        평점: 7.8,\n",
      "        개봉 연도: 2009,\n",
      "        줄거리: \"인류의 탐욕으로부터 자연을 지키기 위해 싸우는 외계 행성 판도라의 이야기.\",\n",
      "        감독: \"제임스 카메론 (James Cameron)\",\n",
      "        출연진: [\"샘 워싱턴 (Sam Worthington)\", \"조디 포스터 (Zoe Saldana)\", \"시고니 위버 (Sigourney Weaver)\"],\n",
      "        정보: \"이 영화는 혁신적인 3D 기술과 환경 보호주의 메시지로 유명하며, 세계적으로 대단한 흥행을 거뒀습니다.\",\n",
      "        예산: \"$237 million\",\n",
      "        박스 오피스: \"$2.9 billion worldwide\",\n",
      "      \n",
      "  "
     ]
    },
    {
     "data": {
      "text/plain": [
       "AIMessageChunk(content='\\n  영화: 아바타\\n  답변: \\n        영화 제목: 아바타 (Avatar)\\n        장르: \"SF (Science Fiction), 액션, 모험\",\\n        평점: 7.8,\\n        개봉 연도: 2009,\\n        줄거리: \"인류의 탐욕으로부터 자연을 지키기 위해 싸우는 외계 행성 판도라의 이야기.\",\\n        감독: \"제임스 카메론 (James Cameron)\",\\n        출연진: [\"샘 워싱턴 (Sam Worthington)\", \"조디 포스터 (Zoe Saldana)\", \"시고니 위버 (Sigourney Weaver)\"],\\n        정보: \"이 영화는 혁신적인 3D 기술과 환경 보호주의 메시지로 유명하며, 세계적으로 대단한 흥행을 거뒀습니다.\",\\n        예산: \"$237 million\",\\n        박스 오피스: \"$2.9 billion worldwide\",\\n      \\n  ')"
      ]
     },
     "execution_count": 2,
     "metadata": {},
     "output_type": "execute_result"
    }
   ],
   "source": [
    "examples = [\n",
    "    {\n",
    "        \"movie\": \"Inception\",\n",
    "        \"answer\": \"\"\"\n",
    "          영화 제목: 인셉션 (Inception)\n",
    "          장르: \"SF (Science Fiction)\",\n",
    "          평점: 8.8,\n",
    "          개봉 연도: 2010,\n",
    "          줄거리: \"꿈을 조작하는 도둑이 꿈의 세계에서 임무를 수행하며 현실과 꿈의 경계를 넘나드는 이야기.\",\n",
    "          감독: \"크리스토퍼 놀란 (Christopher Nolan)\",\n",
    "          출연진: [\"레오나르도 디카프리오 (Leonardo DiCaprio)\", \"조셉 고든 레빗(Joseph Gordon-Levitt)\", \"엘리엇 페이지 (Elliot Page)\"],\n",
    "          정보: \"이 영화는 꿈의 구조와 현실의 경계를 탐구하며, 시각적으로 혁신적인 장면들로 유명합니다.\",\n",
    "          예산: \"$160 million\",\n",
    "          박스 오피스: \"$836.8 million worldwide\",\n",
    "        \"\"\"\n",
    "    },\n",
    "    {\n",
    "      \"movie\": \"인터스텔라\",\n",
    "      \"answer\": \"\"\"\n",
    "        영화 제목: 인터스텔라 (Interstellar)\n",
    "        장르: \"SF (Science Fiction)\",\n",
    "        평점: 8.6,\n",
    "        개봉 연도: 2014,\n",
    "        줄거리: \"지구의 생존을 위해 우주로 떠나는 탐험대의 이야기로, 시간과 공간을 넘나드는 모험을 그립니다.\",\n",
    "        감독: \"크리스토퍼 놀란 (Christopher Nolan)\",\n",
    "        출연진: [\"매튜 맥커너히 (Matthew McConaughey)\", \"앤 해서웨이 (Anne Hathaway)\", \"제시카 차스테인 (Jessica Chastain)\"],\n",
    "        정보: \"이 영화는 상대성 이론과 블랙홀을 다루며, 놀라운 시각 효과와 감동적인 스토리로 많은 찬사를 받았습니다.\",\n",
    "        예산: \"$165 million\",\n",
    "        박스 오피스: \"$677.5 million worldwide\",\n",
    "      \"\"\"\n",
    "    },\n",
    "    {\n",
    "      \"movie\": \"데드풀\",\n",
    "      \"answer\": \"\"\"\n",
    "        영화 제목: 데드풀 (Deadpool)\n",
    "        장르: \"액션, 코미디\",\n",
    "        평점: 8.0,\n",
    "        개봉 연도: 2016,\n",
    "        줄거리: \"암살자이자 슈퍼히어로인 데드풀이 자신의 정체성을 찾고 복수를 위해 싸우는 이야기.\",\n",
    "        감독: \"팀 밀러 (Tim Miller)\",\n",
    "        출연진: [\"라이언 레이놀즈 (Ryan Reynolds)\", \"모레나 바카린 (Morena Baccarin)\", \"T.J. 밀러 (T.J. Miller)\"],\n",
    "        정보: \"이 영화는 유머와 액션을 결합하여 슈퍼히어로 장르에 새로운 바람을 불어넣었습니다.\",\n",
    "        예산: \"$58 million\",\n",
    "        박스 오피스: \"$783.1 million worldwide\",\n",
    "      \"\"\"\n",
    "    }\n",
    "]\n",
    "\n",
    "example_template = \"\"\"\n",
    "  영화: {movie}\n",
    "  답변: {answer}\n",
    "  \"\"\"\n",
    "\n",
    "example_prompt = PromptTemplate.from_template(example_template)\n",
    "\n",
    "prompt = FewShotPromptTemplate(\n",
    "  examples=examples,\n",
    "  example_prompt=example_prompt,\n",
    "  suffix=\"{movie}\",\n",
    "  input_variables=[\"movie\"]\n",
    ")\n",
    "\n",
    "chain = prompt | chat\n",
    "\n",
    "chain.invoke({\"movie\": \"아바타\"})"
   ]
  }
 ],
 "metadata": {
  "kernelspec": {
   "display_name": "env",
   "language": "python",
   "name": "python3"
  },
  "language_info": {
   "codemirror_mode": {
    "name": "ipython",
    "version": 3
   },
   "file_extension": ".py",
   "mimetype": "text/x-python",
   "name": "python",
   "nbconvert_exporter": "python",
   "pygments_lexer": "ipython3",
   "version": "3.11.11"
  }
 },
 "nbformat": 4,
 "nbformat_minor": 5
}
