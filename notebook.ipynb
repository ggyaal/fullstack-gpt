{
 "cells": [
  {
   "cell_type": "code",
   "execution_count": 11,
   "id": "692c8937",
   "metadata": {},
   "outputs": [],
   "source": [
    "from langchain.chat_models import ChatOpenAI\n",
    "from langchain.prompts import ChatPromptTemplate\n",
    "from langchain.callbacks import StreamingStdOutCallbackHandler\n",
    "\n",
    "chat = ChatOpenAI(temperature=0.1, streaming=True, callbacks=[StreamingStdOutCallbackHandler()])"
   ]
  },
  {
   "cell_type": "code",
   "execution_count": 15,
   "id": "4bdf8a90",
   "metadata": {},
   "outputs": [],
   "source": [
    "philo_prompt = ChatPromptTemplate.from_messages(\n",
    "  [\n",
    "    (\"system\", \"You are a renowned philosopher. Please answer my questions philosophically and only in Korean.\"),\n",
    "    (\"human\", \"{question}\"),\n",
    "  ]\n",
    ")\n",
    "\n",
    "philo_chain = philo_prompt | chat"
   ]
  },
  {
   "cell_type": "code",
   "execution_count": null,
   "id": "d96a9bf8",
   "metadata": {},
   "outputs": [],
   "source": [
    "other_prompt = ChatPromptTemplate.from_messages(\n",
    "  [\n",
    "    (\"system\", \"Think critically about the other person's opinion, state your opinion as 'for' or 'against' and explain the reasons in Korean.\"),\n",
    "    (\"human\", \"{answer}\"),\n",
    "  ]\n",
    ")\n",
    "\n",
    "other_chain = other_prompt | chat"
   ]
  },
  {
   "cell_type": "code",
   "execution_count": 16,
   "id": "7fbbd2ff",
   "metadata": {},
   "outputs": [
    {
     "name": "stdout",
     "output_type": "stream",
     "text": [
      "도덕적 딜레마인 '트롤리 딜레마'는 인간의 윤리적 판단력을 시험하는 중요한 문제입니다. 이 딜레마를 통해 우리는 희생을 피하는 것과 최대의 효용을 추구하는 것 사이의 갈등을 직면하게 됩니다. 이는 우리가 어떤 가치를 중요시하고 어떤 행동을 선택하는지에 대해 깊이 생각하게 합니다. 결국 이 딜레마는 우리의 도덕적 가치관과 행동에 대한 책임을 고민하게 하는 의미있는 과제라고 생각합니다.모순을 발견하지 못했습니다. 해당 주장을 받아들입니다."
     ]
    },
    {
     "data": {
      "text/plain": [
       "AIMessageChunk(content='모순을 발견하지 못했습니다. 해당 주장을 받아들입니다.')"
      ]
     },
     "execution_count": 16,
     "metadata": {},
     "output_type": "execute_result"
    }
   ],
   "source": [
    "final_chain = {\"answer\": philo_chain} | other_chain\n",
    "\n",
    "final_chain.invoke({\"question\": \"What do you think about the trolley dilemma?\"})"
   ]
  }
 ],
 "metadata": {
  "kernelspec": {
   "display_name": "env",
   "language": "python",
   "name": "python3"
  },
  "language_info": {
   "codemirror_mode": {
    "name": "ipython",
    "version": 3
   },
   "file_extension": ".py",
   "mimetype": "text/x-python",
   "name": "python",
   "nbconvert_exporter": "python",
   "pygments_lexer": "ipython3",
   "version": "3.11.11"
  }
 },
 "nbformat": 4,
 "nbformat_minor": 5
}
