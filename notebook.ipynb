{
 "cells": [
  {
   "cell_type": "code",
   "execution_count": 4,
   "id": "692c8937",
   "metadata": {},
   "outputs": [],
   "source": [
    "from langchain.chat_models import ChatOpenAI\n",
    "from langchain.prompts import PromptTemplate\n",
    "from langchain.prompts.few_shot import FewShotPromptTemplate\n",
    "from langchain.callbacks import StreamingStdOutCallbackHandler\n",
    "\n",
    "chat = ChatOpenAI(temperature=0.1, streaming=True, callbacks=[StreamingStdOutCallbackHandler()])"
   ]
  },
  {
   "cell_type": "code",
   "execution_count": 7,
   "id": "4973ec8a",
   "metadata": {},
   "outputs": [
    {
     "name": "stdout",
     "output_type": "stream",
     "text": [
      "답변: \n",
      "내가 아는 것은:\n",
      "수도: 서울\n",
      "언어: 한국어\n",
      "음식: 김치 그리고 불고기\n",
      "화폐: 대한민국 원 (₩, KRW)"
     ]
    },
    {
     "data": {
      "text/plain": [
       "AIMessageChunk(content='답변: \\n내가 아는 것은:\\n수도: 서울\\n언어: 한국어\\n음식: 김치 그리고 불고기\\n화폐: 대한민국 원 (₩, KRW)')"
      ]
     },
     "execution_count": 7,
     "metadata": {},
     "output_type": "execute_result"
    }
   ],
   "source": [
    "examples = [\n",
    "{\n",
    "\"question\": \"프랑스을(를) 알고 있니?\",\n",
    "\"answer\": \"\"\"\n",
    "내가 아는 것은:\n",
    "수도: 파리\n",
    "언어: 프랑스어\n",
    "음식: 와인 그리고 치즈\n",
    "화폐: 유로 (€, EUR)\n",
    "\"\"\",\n",
    "},\n",
    "{\n",
    "\"question\": \"이탈리아을(를) 알고 있니?\",\n",
    "\"answer\": \"\"\"\n",
    "내가 아는 것은:\n",
    "수도: 로마\n",
    "언어: 이탈리아어\n",
    "음식: 피자 그리고 파스타\n",
    "화폐: 유로 (€, EUR)\n",
    "\"\"\",\n",
    "},\n",
    "{\n",
    "\"question\": \"그리스을(를) 알고 있니?\",\n",
    "\"answer\": \"\"\"\n",
    "내가 아는 것은:\n",
    "수도: 아테네\n",
    "언어: 그리스어\n",
    "음식: 수블라키 그리고 페타 치즈\n",
    "화폐: 유로 (€, EUR)\n",
    "\"\"\",\n",
    "},\n",
    "]\n",
    "\n",
    "example_template = \"\"\"\n",
    "질문: {question}\n",
    "답변: {answer}\n",
    "\"\"\"\n",
    "\n",
    "example_prompt = PromptTemplate.from_template(example_template)\n",
    "\n",
    "prompt = FewShotPromptTemplate(\n",
    "  example_prompt=example_prompt,\n",
    "  examples=examples,\n",
    "  suffix=\"질문: {country}을(를) 알고 있니?\",\n",
    "  input_variables=[\"country\"]\n",
    ")\n",
    "\n",
    "prompt.format(country=\"스페인\")\n",
    "\n",
    "chain = prompt | chat\n",
    "\n",
    "chain.invoke({\"country\": \"한국\"})"
   ]
  }
 ],
 "metadata": {
  "kernelspec": {
   "display_name": "env",
   "language": "python",
   "name": "python3"
  },
  "language_info": {
   "codemirror_mode": {
    "name": "ipython",
    "version": 3
   },
   "file_extension": ".py",
   "mimetype": "text/x-python",
   "name": "python",
   "nbconvert_exporter": "python",
   "pygments_lexer": "ipython3",
   "version": "3.11.11"
  }
 },
 "nbformat": 4,
 "nbformat_minor": 5
}
